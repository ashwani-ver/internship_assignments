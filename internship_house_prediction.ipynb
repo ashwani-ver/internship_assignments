{
 "cells": [
  {
   "cell_type": "code",
   "execution_count": 1,
   "id": "b8880271",
   "metadata": {},
   "outputs": [],
   "source": [
    "import numpy as np\n",
    "import pandas as pd\n",
    "import matplotlib.pyplot as plt\n",
    "%matplotlib inline\n",
    "import matplotlib\n",
    "import seaborn as sn\n",
    "matplotlib.rcParams[\"figure.figsize\"] = [20,10]"
   ]
  },
  {
   "cell_type": "code",
   "execution_count": 2,
   "id": "c0014751",
   "metadata": {},
   "outputs": [
    {
     "data": {
      "text/html": [
       "<div>\n",
       "<style scoped>\n",
       "    .dataframe tbody tr th:only-of-type {\n",
       "        vertical-align: middle;\n",
       "    }\n",
       "\n",
       "    .dataframe tbody tr th {\n",
       "        vertical-align: top;\n",
       "    }\n",
       "\n",
       "    .dataframe thead th {\n",
       "        text-align: right;\n",
       "    }\n",
       "</style>\n",
       "<table border=\"1\" class=\"dataframe\">\n",
       "  <thead>\n",
       "    <tr style=\"text-align: right;\">\n",
       "      <th></th>\n",
       "      <th>Transaction date</th>\n",
       "      <th>House Age</th>\n",
       "      <th>Distance from nearest Metro station (km)</th>\n",
       "      <th>Number of convenience stores</th>\n",
       "      <th>latitude</th>\n",
       "      <th>longitude</th>\n",
       "      <th>Number of bedrooms</th>\n",
       "      <th>House size (sqft)</th>\n",
       "      <th>House price of unit area</th>\n",
       "    </tr>\n",
       "  </thead>\n",
       "  <tbody>\n",
       "    <tr>\n",
       "      <th>0</th>\n",
       "      <td>2012.917</td>\n",
       "      <td>32.0</td>\n",
       "      <td>84.87882</td>\n",
       "      <td>10</td>\n",
       "      <td>24.98298</td>\n",
       "      <td>121.54024</td>\n",
       "      <td>1</td>\n",
       "      <td>575</td>\n",
       "      <td>37.9</td>\n",
       "    </tr>\n",
       "    <tr>\n",
       "      <th>1</th>\n",
       "      <td>2012.917</td>\n",
       "      <td>19.5</td>\n",
       "      <td>306.59470</td>\n",
       "      <td>9</td>\n",
       "      <td>24.98034</td>\n",
       "      <td>121.53951</td>\n",
       "      <td>2</td>\n",
       "      <td>1240</td>\n",
       "      <td>42.2</td>\n",
       "    </tr>\n",
       "    <tr>\n",
       "      <th>2</th>\n",
       "      <td>2013.583</td>\n",
       "      <td>13.3</td>\n",
       "      <td>561.98450</td>\n",
       "      <td>5</td>\n",
       "      <td>24.98746</td>\n",
       "      <td>121.54391</td>\n",
       "      <td>3</td>\n",
       "      <td>1060</td>\n",
       "      <td>47.3</td>\n",
       "    </tr>\n",
       "    <tr>\n",
       "      <th>3</th>\n",
       "      <td>2013.500</td>\n",
       "      <td>13.3</td>\n",
       "      <td>561.98450</td>\n",
       "      <td>5</td>\n",
       "      <td>24.98746</td>\n",
       "      <td>121.54391</td>\n",
       "      <td>2</td>\n",
       "      <td>875</td>\n",
       "      <td>54.8</td>\n",
       "    </tr>\n",
       "    <tr>\n",
       "      <th>4</th>\n",
       "      <td>2012.833</td>\n",
       "      <td>5.0</td>\n",
       "      <td>390.56840</td>\n",
       "      <td>5</td>\n",
       "      <td>24.97937</td>\n",
       "      <td>121.54245</td>\n",
       "      <td>1</td>\n",
       "      <td>491</td>\n",
       "      <td>43.1</td>\n",
       "    </tr>\n",
       "    <tr>\n",
       "      <th>5</th>\n",
       "      <td>2012.667</td>\n",
       "      <td>7.1</td>\n",
       "      <td>2175.03000</td>\n",
       "      <td>3</td>\n",
       "      <td>24.96305</td>\n",
       "      <td>121.51254</td>\n",
       "      <td>3</td>\n",
       "      <td>828</td>\n",
       "      <td>32.1</td>\n",
       "    </tr>\n",
       "    <tr>\n",
       "      <th>6</th>\n",
       "      <td>2012.667</td>\n",
       "      <td>34.5</td>\n",
       "      <td>623.47310</td>\n",
       "      <td>7</td>\n",
       "      <td>24.97933</td>\n",
       "      <td>121.53642</td>\n",
       "      <td>3</td>\n",
       "      <td>1115</td>\n",
       "      <td>40.3</td>\n",
       "    </tr>\n",
       "    <tr>\n",
       "      <th>7</th>\n",
       "      <td>2013.417</td>\n",
       "      <td>20.3</td>\n",
       "      <td>287.60250</td>\n",
       "      <td>6</td>\n",
       "      <td>24.98042</td>\n",
       "      <td>121.54228</td>\n",
       "      <td>3</td>\n",
       "      <td>1316</td>\n",
       "      <td>46.7</td>\n",
       "    </tr>\n",
       "    <tr>\n",
       "      <th>8</th>\n",
       "      <td>2013.500</td>\n",
       "      <td>31.7</td>\n",
       "      <td>5512.03800</td>\n",
       "      <td>1</td>\n",
       "      <td>24.95095</td>\n",
       "      <td>121.48458</td>\n",
       "      <td>1</td>\n",
       "      <td>588</td>\n",
       "      <td>18.8</td>\n",
       "    </tr>\n",
       "    <tr>\n",
       "      <th>9</th>\n",
       "      <td>2013.417</td>\n",
       "      <td>17.9</td>\n",
       "      <td>1783.18000</td>\n",
       "      <td>3</td>\n",
       "      <td>24.96731</td>\n",
       "      <td>121.51486</td>\n",
       "      <td>2</td>\n",
       "      <td>1075</td>\n",
       "      <td>22.1</td>\n",
       "    </tr>\n",
       "    <tr>\n",
       "      <th>10</th>\n",
       "      <td>2013.083</td>\n",
       "      <td>34.8</td>\n",
       "      <td>405.21340</td>\n",
       "      <td>1</td>\n",
       "      <td>24.97349</td>\n",
       "      <td>121.53372</td>\n",
       "      <td>1</td>\n",
       "      <td>466</td>\n",
       "      <td>41.4</td>\n",
       "    </tr>\n",
       "    <tr>\n",
       "      <th>11</th>\n",
       "      <td>2013.333</td>\n",
       "      <td>6.3</td>\n",
       "      <td>90.45606</td>\n",
       "      <td>9</td>\n",
       "      <td>24.97433</td>\n",
       "      <td>121.54310</td>\n",
       "      <td>3</td>\n",
       "      <td>1423</td>\n",
       "      <td>58.1</td>\n",
       "    </tr>\n",
       "    <tr>\n",
       "      <th>12</th>\n",
       "      <td>2012.917</td>\n",
       "      <td>13.0</td>\n",
       "      <td>492.23130</td>\n",
       "      <td>5</td>\n",
       "      <td>24.96515</td>\n",
       "      <td>121.53737</td>\n",
       "      <td>3</td>\n",
       "      <td>1172</td>\n",
       "      <td>39.3</td>\n",
       "    </tr>\n",
       "    <tr>\n",
       "      <th>13</th>\n",
       "      <td>2012.667</td>\n",
       "      <td>20.4</td>\n",
       "      <td>2469.64500</td>\n",
       "      <td>4</td>\n",
       "      <td>24.96108</td>\n",
       "      <td>121.51046</td>\n",
       "      <td>3</td>\n",
       "      <td>928</td>\n",
       "      <td>23.8</td>\n",
       "    </tr>\n",
       "    <tr>\n",
       "      <th>14</th>\n",
       "      <td>2013.500</td>\n",
       "      <td>13.2</td>\n",
       "      <td>1164.83800</td>\n",
       "      <td>4</td>\n",
       "      <td>24.99156</td>\n",
       "      <td>121.53406</td>\n",
       "      <td>1</td>\n",
       "      <td>512</td>\n",
       "      <td>34.3</td>\n",
       "    </tr>\n",
       "  </tbody>\n",
       "</table>\n",
       "</div>"
      ],
      "text/plain": [
       "    Transaction date  House Age  Distance from nearest Metro station (km)  \\\n",
       "0           2012.917       32.0                                  84.87882   \n",
       "1           2012.917       19.5                                 306.59470   \n",
       "2           2013.583       13.3                                 561.98450   \n",
       "3           2013.500       13.3                                 561.98450   \n",
       "4           2012.833        5.0                                 390.56840   \n",
       "5           2012.667        7.1                                2175.03000   \n",
       "6           2012.667       34.5                                 623.47310   \n",
       "7           2013.417       20.3                                 287.60250   \n",
       "8           2013.500       31.7                                5512.03800   \n",
       "9           2013.417       17.9                                1783.18000   \n",
       "10          2013.083       34.8                                 405.21340   \n",
       "11          2013.333        6.3                                  90.45606   \n",
       "12          2012.917       13.0                                 492.23130   \n",
       "13          2012.667       20.4                                2469.64500   \n",
       "14          2013.500       13.2                                1164.83800   \n",
       "\n",
       "    Number of convenience stores  latitude  longitude  Number of bedrooms  \\\n",
       "0                             10  24.98298  121.54024                   1   \n",
       "1                              9  24.98034  121.53951                   2   \n",
       "2                              5  24.98746  121.54391                   3   \n",
       "3                              5  24.98746  121.54391                   2   \n",
       "4                              5  24.97937  121.54245                   1   \n",
       "5                              3  24.96305  121.51254                   3   \n",
       "6                              7  24.97933  121.53642                   3   \n",
       "7                              6  24.98042  121.54228                   3   \n",
       "8                              1  24.95095  121.48458                   1   \n",
       "9                              3  24.96731  121.51486                   2   \n",
       "10                             1  24.97349  121.53372                   1   \n",
       "11                             9  24.97433  121.54310                   3   \n",
       "12                             5  24.96515  121.53737                   3   \n",
       "13                             4  24.96108  121.51046                   3   \n",
       "14                             4  24.99156  121.53406                   1   \n",
       "\n",
       "    House size (sqft)  House price of unit area  \n",
       "0                 575                      37.9  \n",
       "1                1240                      42.2  \n",
       "2                1060                      47.3  \n",
       "3                 875                      54.8  \n",
       "4                 491                      43.1  \n",
       "5                 828                      32.1  \n",
       "6                1115                      40.3  \n",
       "7                1316                      46.7  \n",
       "8                 588                      18.8  \n",
       "9                1075                      22.1  \n",
       "10                466                      41.4  \n",
       "11               1423                      58.1  \n",
       "12               1172                      39.3  \n",
       "13                928                      23.8  \n",
       "14                512                      34.3  "
      ]
     },
     "execution_count": 2,
     "metadata": {},
     "output_type": "execute_result"
    }
   ],
   "source": [
    "df = pd.read_csv(\"hp_int.csv\")\n",
    "df.head(15)"
   ]
  },
  {
   "cell_type": "code",
   "execution_count": 3,
   "id": "add86b3c",
   "metadata": {},
   "outputs": [
    {
     "data": {
      "text/plain": [
       "array([32. , 19.5, 13.3,  5. ,  7.1, 34.5, 20.3, 31.7, 17.9, 34.8,  6.3,\n",
       "       13. , 20.4, 13.2, 35.7,  0. , 17.7, 16.9,  1.5,  4.5, 10.5, 14.7,\n",
       "       10.1, 39.6, 29.3,  3.1, 10.4, 19.2, 25.9, 29.6, 37.9, 16.5, 15.4,\n",
       "       13.9, 12. , 16.2, 13.6, 16.8, 36.1, 34.4,  2.7, 36.6, 21.7, 35.9,\n",
       "       24.2, 29.4, 31.3, 32.1, 16.1, 33.6,  3.5, 30.3, 11. ,  5.3, 17.2,\n",
       "        2.6, 17.5, 40.1,  1. ,  8.5, 30.4, 12.5,  6.6, 35.5, 32.5, 13.8,\n",
       "        6.8, 12.3, 20.5, 38.2, 18. , 11.8, 30.8, 25.3, 15.1,  1.8,  8.9,\n",
       "       23. ,  9.1, 20.6, 31.9, 40.9,  8. ,  6.4, 28.4, 16.4, 12.7,  1.1,\n",
       "       32.7, 12.2, 31.4,  4. ,  8.1, 33.3,  9.9, 14.8, 30.6, 30.9, 16.6,\n",
       "       31.5, 38.6,  3.8, 41.3, 38.5, 26.6, 33.4, 18.9, 11.4, 10. , 12.9,\n",
       "        5.1, 19.8, 11.9,  2.1,  3.2, 34.9, 35.8,  4.9,  6.5, 30.7, 11.6,\n",
       "       15.5, 16. , 13.7, 28.2, 27.6,  8.4, 24. ,  3.6,  4.3, 30.2, 33. ,\n",
       "       13.1, 14. , 26.9, 13.5, 17. , 14.1, 20.9, 16.3, 35.3, 43.8,  9.7,\n",
       "       15.2, 22.8, 34. , 18.2, 17.4, 38.3, 15.6, 12.8, 22.2, 11.5,  5.2,\n",
       "       17.6,  6.2, 18.1, 37.8, 28. , 37.2,  9. , 32.4, 31. , 27.1, 39.7,\n",
       "        2. , 32.8,  4.8,  7.5, 19. , 39.2,  5.9, 14.6, 17.3, 15.9,  3.9,\n",
       "       32.6, 15.7, 17.8, 34.7, 10.8, 27.5, 19.1, 21.2,  2.3,  4.7, 33.5,\n",
       "       15. , 30.1, 37.7,  3.4, 12.6, 26.4, 16.7, 33.2,  2.5, 38. , 20. ,\n",
       "       14.4, 10.3, 21.3, 35.4,  8.3,  3.7, 34.6, 28.6, 12.4,  4.1, 25.6,\n",
       "       39.8,  7.8, 30. , 27.3,  1.7,  5.7,  4.6, 18.4,  5.6, 32.9, 41.4,\n",
       "       17.1, 32.3, 14.2, 20.2, 33.9,  5.4, 37.3, 29.1, 18.3, 42.7, 37.1,\n",
       "       26.8,  7.6,  1.9, 18.5, 18.8])"
      ]
     },
     "execution_count": 3,
     "metadata": {},
     "output_type": "execute_result"
    }
   ],
   "source": [
    "df['House Age'].unique()"
   ]
  },
  {
   "cell_type": "code",
   "execution_count": 4,
   "id": "3ea0300c",
   "metadata": {},
   "outputs": [
    {
     "data": {
      "text/plain": [
       "Transaction date                            0\n",
       "House Age                                   0\n",
       "Distance from nearest Metro station (km)    0\n",
       "Number of convenience stores                0\n",
       "latitude                                    0\n",
       "longitude                                   0\n",
       "Number of bedrooms                          0\n",
       "House size (sqft)                           0\n",
       "House price of unit area                    0\n",
       "dtype: int64"
      ]
     },
     "execution_count": 4,
     "metadata": {},
     "output_type": "execute_result"
    }
   ],
   "source": [
    "df.isna().sum()"
   ]
  },
  {
   "cell_type": "code",
   "execution_count": 5,
   "id": "e061e644",
   "metadata": {},
   "outputs": [],
   "source": [
    "#transaction date  data is not required so we can drop. \n",
    "df1 = df.drop(['Transaction date'], axis = 'columns')"
   ]
  },
  {
   "cell_type": "code",
   "execution_count": 6,
   "id": "0c868006",
   "metadata": {},
   "outputs": [
    {
     "data": {
      "text/html": [
       "<div>\n",
       "<style scoped>\n",
       "    .dataframe tbody tr th:only-of-type {\n",
       "        vertical-align: middle;\n",
       "    }\n",
       "\n",
       "    .dataframe tbody tr th {\n",
       "        vertical-align: top;\n",
       "    }\n",
       "\n",
       "    .dataframe thead th {\n",
       "        text-align: right;\n",
       "    }\n",
       "</style>\n",
       "<table border=\"1\" class=\"dataframe\">\n",
       "  <thead>\n",
       "    <tr style=\"text-align: right;\">\n",
       "      <th></th>\n",
       "      <th>House Age</th>\n",
       "      <th>Distance from nearest Metro station (km)</th>\n",
       "      <th>Number of convenience stores</th>\n",
       "      <th>latitude</th>\n",
       "      <th>longitude</th>\n",
       "      <th>Number of bedrooms</th>\n",
       "      <th>House size (sqft)</th>\n",
       "      <th>House price of unit area</th>\n",
       "    </tr>\n",
       "  </thead>\n",
       "  <tbody>\n",
       "    <tr>\n",
       "      <th>0</th>\n",
       "      <td>32.0</td>\n",
       "      <td>84.87882</td>\n",
       "      <td>10</td>\n",
       "      <td>24.98298</td>\n",
       "      <td>121.54024</td>\n",
       "      <td>1</td>\n",
       "      <td>575</td>\n",
       "      <td>37.9</td>\n",
       "    </tr>\n",
       "    <tr>\n",
       "      <th>1</th>\n",
       "      <td>19.5</td>\n",
       "      <td>306.59470</td>\n",
       "      <td>9</td>\n",
       "      <td>24.98034</td>\n",
       "      <td>121.53951</td>\n",
       "      <td>2</td>\n",
       "      <td>1240</td>\n",
       "      <td>42.2</td>\n",
       "    </tr>\n",
       "    <tr>\n",
       "      <th>2</th>\n",
       "      <td>13.3</td>\n",
       "      <td>561.98450</td>\n",
       "      <td>5</td>\n",
       "      <td>24.98746</td>\n",
       "      <td>121.54391</td>\n",
       "      <td>3</td>\n",
       "      <td>1060</td>\n",
       "      <td>47.3</td>\n",
       "    </tr>\n",
       "    <tr>\n",
       "      <th>3</th>\n",
       "      <td>13.3</td>\n",
       "      <td>561.98450</td>\n",
       "      <td>5</td>\n",
       "      <td>24.98746</td>\n",
       "      <td>121.54391</td>\n",
       "      <td>2</td>\n",
       "      <td>875</td>\n",
       "      <td>54.8</td>\n",
       "    </tr>\n",
       "    <tr>\n",
       "      <th>4</th>\n",
       "      <td>5.0</td>\n",
       "      <td>390.56840</td>\n",
       "      <td>5</td>\n",
       "      <td>24.97937</td>\n",
       "      <td>121.54245</td>\n",
       "      <td>1</td>\n",
       "      <td>491</td>\n",
       "      <td>43.1</td>\n",
       "    </tr>\n",
       "  </tbody>\n",
       "</table>\n",
       "</div>"
      ],
      "text/plain": [
       "   House Age  Distance from nearest Metro station (km)  \\\n",
       "0       32.0                                  84.87882   \n",
       "1       19.5                                 306.59470   \n",
       "2       13.3                                 561.98450   \n",
       "3       13.3                                 561.98450   \n",
       "4        5.0                                 390.56840   \n",
       "\n",
       "   Number of convenience stores  latitude  longitude  Number of bedrooms  \\\n",
       "0                            10  24.98298  121.54024                   1   \n",
       "1                             9  24.98034  121.53951                   2   \n",
       "2                             5  24.98746  121.54391                   3   \n",
       "3                             5  24.98746  121.54391                   2   \n",
       "4                             5  24.97937  121.54245                   1   \n",
       "\n",
       "   House size (sqft)  House price of unit area  \n",
       "0                575                      37.9  \n",
       "1               1240                      42.2  \n",
       "2               1060                      47.3  \n",
       "3                875                      54.8  \n",
       "4                491                      43.1  "
      ]
     },
     "execution_count": 6,
     "metadata": {},
     "output_type": "execute_result"
    }
   ],
   "source": [
    "df1.head()"
   ]
  },
  {
   "cell_type": "code",
   "execution_count": 7,
   "id": "e94072d9",
   "metadata": {},
   "outputs": [
    {
     "data": {
      "text/plain": [
       "(414, 9)"
      ]
     },
     "execution_count": 7,
     "metadata": {},
     "output_type": "execute_result"
    }
   ],
   "source": [
    "df.shape"
   ]
  },
  {
   "cell_type": "code",
   "execution_count": 8,
   "id": "43840cb6",
   "metadata": {},
   "outputs": [
    {
     "data": {
      "text/plain": [
       "array([1, 2, 3], dtype=int64)"
      ]
     },
     "execution_count": 8,
     "metadata": {},
     "output_type": "execute_result"
    }
   ],
   "source": [
    "df1['Number of bedrooms'].unique()"
   ]
  },
  {
   "cell_type": "code",
   "execution_count": 9,
   "id": "90293bd0",
   "metadata": {},
   "outputs": [
    {
     "data": {
      "text/plain": [
       "array([10,  9,  5,  3,  7,  6,  1,  4,  2,  8,  0], dtype=int64)"
      ]
     },
     "execution_count": 9,
     "metadata": {},
     "output_type": "execute_result"
    }
   ],
   "source": [
    "df1['Number of convenience stores'].unique()"
   ]
  },
  {
   "cell_type": "code",
   "execution_count": 10,
   "id": "0d469cb0",
   "metadata": {},
   "outputs": [
    {
     "data": {
      "text/plain": [
       "Number of convenience stores\n",
       "0     67\n",
       "1     46\n",
       "2     24\n",
       "3     46\n",
       "4     31\n",
       "5     67\n",
       "6     37\n",
       "7     31\n",
       "8     30\n",
       "9     25\n",
       "10    10\n",
       "Name: Number of convenience stores, dtype: int64"
      ]
     },
     "execution_count": 10,
     "metadata": {},
     "output_type": "execute_result"
    }
   ],
   "source": [
    "#getting info by number of convenience stores\n",
    "df1.groupby('Number of convenience stores')['Number of convenience stores'].agg('count')"
   ]
  },
  {
   "cell_type": "code",
   "execution_count": 11,
   "id": "e78cae22",
   "metadata": {},
   "outputs": [
    {
     "data": {
      "text/plain": [
       "array([  84.87882,  306.5947 ,  561.9845 ,  390.5684 , 2175.03   ,\n",
       "        623.4731 ,  287.6025 , 5512.038  , 1783.18   ,  405.2134 ,\n",
       "         90.45606,  492.2313 , 2469.645  , 1164.838  ,  579.2083 ,\n",
       "        292.9978 ,  350.8515 ,  368.1363 ,   23.38284, 2275.877  ,\n",
       "        279.1726 , 1360.139  ,  480.6977 , 1487.868  ,  383.8624 ,\n",
       "        276.449  ,  557.478  ,  451.2438 , 4519.69   ,  769.4034 ,\n",
       "        488.5727 ,  323.655  ,  205.367  , 4079.418  , 1935.009  ,\n",
       "        577.9615 ,  289.3248 , 4082.015  , 4066.587  ,  519.4617 ,\n",
       "        512.7871 ,  533.4762 ,  488.8193 ,  463.9623 ,  640.7391 ,\n",
       "       4605.749  , 4510.359  ,  512.5487 , 1758.406  , 1438.579  ,\n",
       "       1160.632  ,  371.2495 ,   56.47425,  336.0532 , 1931.207  ,\n",
       "        259.6607 , 2175.877  ,  995.7554 ,  123.7429 ,  193.5845 ,\n",
       "        104.8101 ,  464.223  ,  424.5442 ,  379.5575 ,  616.4004 ,\n",
       "       2185.128  ,  552.4371 , 1414.837  ,  377.7956 ,  150.9347 ,\n",
       "       2707.392  ,  383.2805 ,  338.9679 , 1455.798  , 1406.43   ,\n",
       "       3947.945  ,  274.0144 , 1402.016  , 1146.329  ,  167.5989 ,\n",
       "        617.4424 ,  964.7496 ,  170.1289 ,  208.3905 ,  392.4459 ,\n",
       "        189.5181 ,  592.5006 , 2147.376  ,  196.6172 , 2102.427  ,\n",
       "        393.2606 ,  143.8383 ,  737.9161 , 6396.283  , 4197.349  ,\n",
       "       1583.722  ,  414.9476 ,  185.4296 ,  804.6897 ,  124.9912 ,\n",
       "        216.8329 ,  535.527  ,  482.7581 ,  373.3937 ,  186.9686 ,\n",
       "       1009.235  ,  319.0708 ,  942.4664 , 1559.827  ,  640.6071 ,\n",
       "        489.8821 , 3780.59   ,  179.4538 ,  170.7311 ,  387.7721 ,\n",
       "        376.1709 , 1264.73   ,  815.9314 ,   49.66105, 1236.564  ,\n",
       "        330.0854 ,  515.1122 , 1962.628  , 4527.687  ,  401.8807 ,\n",
       "        432.0385 ,  472.1745 , 4573.779  ,  181.0766 , 1144.436  ,\n",
       "        438.8513 , 4449.27   ,  201.8939 , 2615.465  , 1447.286  ,\n",
       "       3078.176  ,  190.0392 ,  616.5735 ,  750.0704 ,   57.58945,\n",
       "        421.479  , 3771.895  ,  461.1016 ,  707.9067 ,  126.7286 ,\n",
       "        157.6052 ,  451.6419 ,  642.6985 , 1449.722  ,  665.0636 ,\n",
       "        175.6294 , 1805.665  ,  383.7129 ,  590.9292 ,  372.6242 ,\n",
       "        529.7771 ,  186.5101 ,  431.1114 ,  324.9419 ,  265.0609 ,\n",
       "       3171.329  , 1156.412  , 4074.736  , 4412.765  ,  333.3679 ,\n",
       "       2216.612  ,  250.631  ,  373.8389 ,  732.8528 ,  837.7233 ,\n",
       "       1712.632  , 2077.39   ,  204.1705 ,  639.6198 ,  389.8219 ,\n",
       "       1055.067  , 6306.153  ,  424.7132 , 1159.454  , 1735.595  ,\n",
       "        329.9747 ,  339.2289 ,  444.1334 , 1485.097  , 2288.011  ,\n",
       "        493.657  ,  252.5822 ,  394.0173 , 1554.25   ,  184.3302 ,\n",
       "       1978.671  ,  718.2937 ,  323.6912 ,  490.3446 ,  395.6747 ,\n",
       "        335.5273 , 2179.59   ,  567.0349 ,  121.7262 ,  156.2442 ,\n",
       "        461.7848 ,  439.7105 , 1626.083  ,  169.9803 , 3079.89   ,\n",
       "       1643.499  ,  537.7971 ,  318.5292 , 1756.411  ,  752.7669 ,\n",
       "        272.6783 ,  187.4823 ,  197.1338 ,  757.3377 , 1497.713  ,\n",
       "       1156.777  ,  617.7134 , 1013.341  ,  337.6016 , 1867.233  ,\n",
       "        600.8604 ,  258.186  ,  270.8895 ,  563.2854 , 3085.17   ,\n",
       "       6488.021  , 2180.245  , 2674.961  ,  211.4473 , 2408.993  ,\n",
       "         87.30222,  281.205  ,  967.4    ,  109.9455 ,  614.1394 ,\n",
       "       2261.432  , 1801.544  , 1828.319  ,  312.8963 , 1157.988  ,\n",
       "       1717.193  ,  587.8877 ,  132.5469 , 3529.564  ,  506.1144 ,\n",
       "         82.88643, 2103.555  , 2251.938  ,  122.3619 ,  377.8302 ,\n",
       "       1939.749  ,  443.802  , 4136.271  ,  918.6357 ,  161.942  ,\n",
       "        130.9945 ,  372.1386 , 2175.744  ,  390.9696 ])"
      ]
     },
     "execution_count": 11,
     "metadata": {},
     "output_type": "execute_result"
    }
   ],
   "source": [
    "df1['Distance from nearest Metro station (km)'].unique()\n"
   ]
  },
  {
   "cell_type": "code",
   "execution_count": 12,
   "id": "ad87c97f",
   "metadata": {},
   "outputs": [
    {
     "data": {
      "text/plain": [
       "259"
      ]
     },
     "execution_count": 12,
     "metadata": {},
     "output_type": "execute_result"
    }
   ],
   "source": [
    "df1['Distance from nearest Metro station (km)'].nunique()\n"
   ]
  },
  {
   "cell_type": "code",
   "execution_count": 13,
   "id": "5078bdc2",
   "metadata": {},
   "outputs": [],
   "source": [
    "#I think that these distances are in meters but by mistake it is given in KM, so i will change it km\n",
    "df1['Distance from nearest Metro station (km)'] = df1['Distance from nearest Metro station (km)']/1000"
   ]
  },
  {
   "cell_type": "code",
   "execution_count": 14,
   "id": "14c249b4",
   "metadata": {},
   "outputs": [
    {
     "data": {
      "text/html": [
       "<div>\n",
       "<style scoped>\n",
       "    .dataframe tbody tr th:only-of-type {\n",
       "        vertical-align: middle;\n",
       "    }\n",
       "\n",
       "    .dataframe tbody tr th {\n",
       "        vertical-align: top;\n",
       "    }\n",
       "\n",
       "    .dataframe thead th {\n",
       "        text-align: right;\n",
       "    }\n",
       "</style>\n",
       "<table border=\"1\" class=\"dataframe\">\n",
       "  <thead>\n",
       "    <tr style=\"text-align: right;\">\n",
       "      <th></th>\n",
       "      <th>House Age</th>\n",
       "      <th>Distance from nearest Metro station (km)</th>\n",
       "      <th>Number of convenience stores</th>\n",
       "      <th>latitude</th>\n",
       "      <th>longitude</th>\n",
       "      <th>Number of bedrooms</th>\n",
       "      <th>House size (sqft)</th>\n",
       "      <th>House price of unit area</th>\n",
       "    </tr>\n",
       "  </thead>\n",
       "  <tbody>\n",
       "    <tr>\n",
       "      <th>0</th>\n",
       "      <td>32.0</td>\n",
       "      <td>0.084879</td>\n",
       "      <td>10</td>\n",
       "      <td>24.98298</td>\n",
       "      <td>121.54024</td>\n",
       "      <td>1</td>\n",
       "      <td>575</td>\n",
       "      <td>37.9</td>\n",
       "    </tr>\n",
       "    <tr>\n",
       "      <th>1</th>\n",
       "      <td>19.5</td>\n",
       "      <td>0.306595</td>\n",
       "      <td>9</td>\n",
       "      <td>24.98034</td>\n",
       "      <td>121.53951</td>\n",
       "      <td>2</td>\n",
       "      <td>1240</td>\n",
       "      <td>42.2</td>\n",
       "    </tr>\n",
       "    <tr>\n",
       "      <th>2</th>\n",
       "      <td>13.3</td>\n",
       "      <td>0.561984</td>\n",
       "      <td>5</td>\n",
       "      <td>24.98746</td>\n",
       "      <td>121.54391</td>\n",
       "      <td>3</td>\n",
       "      <td>1060</td>\n",
       "      <td>47.3</td>\n",
       "    </tr>\n",
       "    <tr>\n",
       "      <th>3</th>\n",
       "      <td>13.3</td>\n",
       "      <td>0.561984</td>\n",
       "      <td>5</td>\n",
       "      <td>24.98746</td>\n",
       "      <td>121.54391</td>\n",
       "      <td>2</td>\n",
       "      <td>875</td>\n",
       "      <td>54.8</td>\n",
       "    </tr>\n",
       "    <tr>\n",
       "      <th>4</th>\n",
       "      <td>5.0</td>\n",
       "      <td>0.390568</td>\n",
       "      <td>5</td>\n",
       "      <td>24.97937</td>\n",
       "      <td>121.54245</td>\n",
       "      <td>1</td>\n",
       "      <td>491</td>\n",
       "      <td>43.1</td>\n",
       "    </tr>\n",
       "    <tr>\n",
       "      <th>5</th>\n",
       "      <td>7.1</td>\n",
       "      <td>2.175030</td>\n",
       "      <td>3</td>\n",
       "      <td>24.96305</td>\n",
       "      <td>121.51254</td>\n",
       "      <td>3</td>\n",
       "      <td>828</td>\n",
       "      <td>32.1</td>\n",
       "    </tr>\n",
       "    <tr>\n",
       "      <th>6</th>\n",
       "      <td>34.5</td>\n",
       "      <td>0.623473</td>\n",
       "      <td>7</td>\n",
       "      <td>24.97933</td>\n",
       "      <td>121.53642</td>\n",
       "      <td>3</td>\n",
       "      <td>1115</td>\n",
       "      <td>40.3</td>\n",
       "    </tr>\n",
       "    <tr>\n",
       "      <th>7</th>\n",
       "      <td>20.3</td>\n",
       "      <td>0.287603</td>\n",
       "      <td>6</td>\n",
       "      <td>24.98042</td>\n",
       "      <td>121.54228</td>\n",
       "      <td>3</td>\n",
       "      <td>1316</td>\n",
       "      <td>46.7</td>\n",
       "    </tr>\n",
       "    <tr>\n",
       "      <th>8</th>\n",
       "      <td>31.7</td>\n",
       "      <td>5.512038</td>\n",
       "      <td>1</td>\n",
       "      <td>24.95095</td>\n",
       "      <td>121.48458</td>\n",
       "      <td>1</td>\n",
       "      <td>588</td>\n",
       "      <td>18.8</td>\n",
       "    </tr>\n",
       "    <tr>\n",
       "      <th>9</th>\n",
       "      <td>17.9</td>\n",
       "      <td>1.783180</td>\n",
       "      <td>3</td>\n",
       "      <td>24.96731</td>\n",
       "      <td>121.51486</td>\n",
       "      <td>2</td>\n",
       "      <td>1075</td>\n",
       "      <td>22.1</td>\n",
       "    </tr>\n",
       "  </tbody>\n",
       "</table>\n",
       "</div>"
      ],
      "text/plain": [
       "   House Age  Distance from nearest Metro station (km)  \\\n",
       "0       32.0                                  0.084879   \n",
       "1       19.5                                  0.306595   \n",
       "2       13.3                                  0.561984   \n",
       "3       13.3                                  0.561984   \n",
       "4        5.0                                  0.390568   \n",
       "5        7.1                                  2.175030   \n",
       "6       34.5                                  0.623473   \n",
       "7       20.3                                  0.287603   \n",
       "8       31.7                                  5.512038   \n",
       "9       17.9                                  1.783180   \n",
       "\n",
       "   Number of convenience stores  latitude  longitude  Number of bedrooms  \\\n",
       "0                            10  24.98298  121.54024                   1   \n",
       "1                             9  24.98034  121.53951                   2   \n",
       "2                             5  24.98746  121.54391                   3   \n",
       "3                             5  24.98746  121.54391                   2   \n",
       "4                             5  24.97937  121.54245                   1   \n",
       "5                             3  24.96305  121.51254                   3   \n",
       "6                             7  24.97933  121.53642                   3   \n",
       "7                             6  24.98042  121.54228                   3   \n",
       "8                             1  24.95095  121.48458                   1   \n",
       "9                             3  24.96731  121.51486                   2   \n",
       "\n",
       "   House size (sqft)  House price of unit area  \n",
       "0                575                      37.9  \n",
       "1               1240                      42.2  \n",
       "2               1060                      47.3  \n",
       "3                875                      54.8  \n",
       "4                491                      43.1  \n",
       "5                828                      32.1  \n",
       "6               1115                      40.3  \n",
       "7               1316                      46.7  \n",
       "8                588                      18.8  \n",
       "9               1075                      22.1  "
      ]
     },
     "execution_count": 14,
     "metadata": {},
     "output_type": "execute_result"
    }
   ],
   "source": [
    "df1.head(10)"
   ]
  },
  {
   "cell_type": "code",
   "execution_count": 15,
   "id": "8d297e0a",
   "metadata": {},
   "outputs": [
    {
     "data": {
      "text/plain": [
       "count    414.000000\n",
       "mean      37.980193\n",
       "std       13.606488\n",
       "min        7.600000\n",
       "25%       27.700000\n",
       "50%       38.450000\n",
       "75%       46.600000\n",
       "max      117.500000\n",
       "Name: House price of unit area, dtype: float64"
      ]
     },
     "execution_count": 15,
     "metadata": {},
     "output_type": "execute_result"
    }
   ],
   "source": [
    "df1['House price of unit area'].describe()"
   ]
  },
  {
   "cell_type": "code",
   "execution_count": 16,
   "id": "2d580ad0",
   "metadata": {},
   "outputs": [
    {
     "data": {
      "text/plain": [
       "count     414.000000\n",
       "mean      931.475845\n",
       "std       348.910269\n",
       "min       402.000000\n",
       "25%       548.000000\n",
       "50%       975.000000\n",
       "75%      1234.750000\n",
       "max      1500.000000\n",
       "Name: House size (sqft), dtype: float64"
      ]
     },
     "execution_count": 16,
     "metadata": {},
     "output_type": "execute_result"
    }
   ],
   "source": [
    "df1['House size (sqft)'].describe()"
   ]
  },
  {
   "cell_type": "code",
   "execution_count": 17,
   "id": "2545528b",
   "metadata": {},
   "outputs": [
    {
     "data": {
      "text/html": [
       "<div>\n",
       "<style scoped>\n",
       "    .dataframe tbody tr th:only-of-type {\n",
       "        vertical-align: middle;\n",
       "    }\n",
       "\n",
       "    .dataframe tbody tr th {\n",
       "        vertical-align: top;\n",
       "    }\n",
       "\n",
       "    .dataframe thead th {\n",
       "        text-align: right;\n",
       "    }\n",
       "</style>\n",
       "<table border=\"1\" class=\"dataframe\">\n",
       "  <thead>\n",
       "    <tr style=\"text-align: right;\">\n",
       "      <th></th>\n",
       "      <th>House Age</th>\n",
       "      <th>Distance from nearest Metro station (km)</th>\n",
       "      <th>Number of convenience stores</th>\n",
       "      <th>latitude</th>\n",
       "      <th>longitude</th>\n",
       "      <th>Number of bedrooms</th>\n",
       "      <th>House size (sqft)</th>\n",
       "      <th>House price of unit area</th>\n",
       "    </tr>\n",
       "  </thead>\n",
       "  <tbody>\n",
       "    <tr>\n",
       "      <th>270</th>\n",
       "      <td>10.8</td>\n",
       "      <td>0.252582</td>\n",
       "      <td>1</td>\n",
       "      <td>24.9746</td>\n",
       "      <td>121.53046</td>\n",
       "      <td>2</td>\n",
       "      <td>1373</td>\n",
       "      <td>117.5</td>\n",
       "    </tr>\n",
       "  </tbody>\n",
       "</table>\n",
       "</div>"
      ],
      "text/plain": [
       "     House Age  Distance from nearest Metro station (km)  \\\n",
       "270       10.8                                  0.252582   \n",
       "\n",
       "     Number of convenience stores  latitude  longitude  Number of bedrooms  \\\n",
       "270                             1   24.9746  121.53046                   2   \n",
       "\n",
       "     House size (sqft)  House price of unit area  \n",
       "270               1373                     117.5  "
      ]
     },
     "execution_count": 17,
     "metadata": {},
     "output_type": "execute_result"
    }
   ],
   "source": [
    "#checking the outliers\n",
    "df2 = df1[df1['House price of unit area'] >= 100]\n",
    "df2"
   ]
  },
  {
   "cell_type": "code",
   "execution_count": 18,
   "id": "b18c3a52",
   "metadata": {},
   "outputs": [
    {
     "name": "stderr",
     "output_type": "stream",
     "text": [
      "D:\\ashwa\\ana\\lib\\site-packages\\seaborn\\_decorators.py:36: FutureWarning: Pass the following variable as a keyword arg: x. From version 0.12, the only valid positional argument will be `data`, and passing other arguments without an explicit keyword will result in an error or misinterpretation.\n",
      "  warnings.warn(\n"
     ]
    },
    {
     "data": {
      "text/plain": [
       "<AxesSubplot:xlabel='House price of unit area'>"
      ]
     },
     "execution_count": 18,
     "metadata": {},
     "output_type": "execute_result"
    },
    {
     "data": {
      "image/png": "[encoded data removed]",
      "text/plain": [
       "<Figure size 1440x720 with 1 Axes>"
      ]
     },
     "metadata": {
      "needs_background": "light"
     },
     "output_type": "display_data"
    }
   ],
   "source": [
    "sn.boxplot(df1['House price of unit area'])"
   ]
  },
  {
   "cell_type": "code",
   "execution_count": 19,
   "id": "12c9489b",
   "metadata": {},
   "outputs": [
    {
     "name": "stderr",
     "output_type": "stream",
     "text": [
      "D:\\ashwa\\ana\\lib\\site-packages\\seaborn\\_decorators.py:36: FutureWarning: Pass the following variable as a keyword arg: x. From version 0.12, the only valid positional argument will be `data`, and passing other arguments without an explicit keyword will result in an error or misinterpretation.\n",
      "  warnings.warn(\n"
     ]
    },
    {
     "data": {
      "text/plain": [
       "<AxesSubplot:xlabel='House size (sqft)'>"
      ]
     },
     "execution_count": 19,
     "metadata": {},
     "output_type": "execute_result"
    },
    {
     "data": {
      "image/png": "[encoded data removed]",
      "text/plain": [
       "<Figure size 1440x720 with 1 Axes>"
      ]
     },
     "metadata": {
      "needs_background": "light"
     },
     "output_type": "display_data"
    }
   ],
   "source": [
    "#boxplot for checking outlier\n",
    "sn.boxplot(df1['House size (sqft)'])"
   ]
  },
  {
   "cell_type": "code",
   "execution_count": 20,
   "id": "6daaa910",
   "metadata": {},
   "outputs": [
    {
     "data": {
      "text/html": [
       "<div>\n",
       "<style scoped>\n",
       "    .dataframe tbody tr th:only-of-type {\n",
       "        vertical-align: middle;\n",
       "    }\n",
       "\n",
       "    .dataframe tbody tr th {\n",
       "        vertical-align: top;\n",
       "    }\n",
       "\n",
       "    .dataframe thead th {\n",
       "        text-align: right;\n",
       "    }\n",
       "</style>\n",
       "<table border=\"1\" class=\"dataframe\">\n",
       "  <thead>\n",
       "    <tr style=\"text-align: right;\">\n",
       "      <th></th>\n",
       "      <th>House Age</th>\n",
       "      <th>Distance from nearest Metro station (km)</th>\n",
       "      <th>Number of convenience stores</th>\n",
       "      <th>latitude</th>\n",
       "      <th>longitude</th>\n",
       "      <th>Number of bedrooms</th>\n",
       "      <th>House size (sqft)</th>\n",
       "      <th>House price of unit area</th>\n",
       "    </tr>\n",
       "  </thead>\n",
       "  <tbody>\n",
       "    <tr>\n",
       "      <th>220</th>\n",
       "      <td>37.2</td>\n",
       "      <td>0.186510</td>\n",
       "      <td>9</td>\n",
       "      <td>24.97703</td>\n",
       "      <td>121.54265</td>\n",
       "      <td>2</td>\n",
       "      <td>1187</td>\n",
       "      <td>78.3</td>\n",
       "    </tr>\n",
       "    <tr>\n",
       "      <th>270</th>\n",
       "      <td>10.8</td>\n",
       "      <td>0.252582</td>\n",
       "      <td>1</td>\n",
       "      <td>24.97460</td>\n",
       "      <td>121.53046</td>\n",
       "      <td>2</td>\n",
       "      <td>1373</td>\n",
       "      <td>117.5</td>\n",
       "    </tr>\n",
       "    <tr>\n",
       "      <th>312</th>\n",
       "      <td>35.4</td>\n",
       "      <td>0.318529</td>\n",
       "      <td>9</td>\n",
       "      <td>24.97071</td>\n",
       "      <td>121.54069</td>\n",
       "      <td>1</td>\n",
       "      <td>433</td>\n",
       "      <td>78.0</td>\n",
       "    </tr>\n",
       "  </tbody>\n",
       "</table>\n",
       "</div>"
      ],
      "text/plain": [
       "     House Age  Distance from nearest Metro station (km)  \\\n",
       "220       37.2                                  0.186510   \n",
       "270       10.8                                  0.252582   \n",
       "312       35.4                                  0.318529   \n",
       "\n",
       "     Number of convenience stores  latitude  longitude  Number of bedrooms  \\\n",
       "220                             9  24.97703  121.54265                   2   \n",
       "270                             1  24.97460  121.53046                   2   \n",
       "312                             9  24.97071  121.54069                   1   \n",
       "\n",
       "     House size (sqft)  House price of unit area  \n",
       "220               1187                      78.3  \n",
       "270               1373                     117.5  \n",
       "312                433                      78.0  "
      ]
     },
     "execution_count": 20,
     "metadata": {},
     "output_type": "execute_result"
    }
   ],
   "source": [
    "#we can see some outliers in house price of unit area, we have to remove that\n",
    "df1[df1['House price of unit area'] >= 75]"
   ]
  },
  {
   "cell_type": "code",
   "execution_count": 21,
   "id": "1558ed25",
   "metadata": {},
   "outputs": [],
   "source": [
    "#we can drop these three rows\n",
    "df1.drop(220,inplace = True)\n"
   ]
  },
  {
   "cell_type": "code",
   "execution_count": 22,
   "id": "8a64a385",
   "metadata": {},
   "outputs": [],
   "source": [
    "df1.drop(270, inplace = True)\n"
   ]
  },
  {
   "cell_type": "code",
   "execution_count": 23,
   "id": "8458a76f",
   "metadata": {},
   "outputs": [
    {
     "data": {
      "text/html": [
       "<div>\n",
       "<style scoped>\n",
       "    .dataframe tbody tr th:only-of-type {\n",
       "        vertical-align: middle;\n",
       "    }\n",
       "\n",
       "    .dataframe tbody tr th {\n",
       "        vertical-align: top;\n",
       "    }\n",
       "\n",
       "    .dataframe thead th {\n",
       "        text-align: right;\n",
       "    }\n",
       "</style>\n",
       "<table border=\"1\" class=\"dataframe\">\n",
       "  <thead>\n",
       "    <tr style=\"text-align: right;\">\n",
       "      <th></th>\n",
       "      <th>House Age</th>\n",
       "      <th>Distance from nearest Metro station (km)</th>\n",
       "      <th>Number of convenience stores</th>\n",
       "      <th>latitude</th>\n",
       "      <th>longitude</th>\n",
       "      <th>Number of bedrooms</th>\n",
       "      <th>House size (sqft)</th>\n",
       "      <th>House price of unit area</th>\n",
       "    </tr>\n",
       "  </thead>\n",
       "  <tbody>\n",
       "    <tr>\n",
       "      <th>312</th>\n",
       "      <td>35.4</td>\n",
       "      <td>0.318529</td>\n",
       "      <td>9</td>\n",
       "      <td>24.97071</td>\n",
       "      <td>121.54069</td>\n",
       "      <td>1</td>\n",
       "      <td>433</td>\n",
       "      <td>78.0</td>\n",
       "    </tr>\n",
       "  </tbody>\n",
       "</table>\n",
       "</div>"
      ],
      "text/plain": [
       "     House Age  Distance from nearest Metro station (km)  \\\n",
       "312       35.4                                  0.318529   \n",
       "\n",
       "     Number of convenience stores  latitude  longitude  Number of bedrooms  \\\n",
       "312                             9  24.97071  121.54069                   1   \n",
       "\n",
       "     House size (sqft)  House price of unit area  \n",
       "312                433                      78.0  "
      ]
     },
     "execution_count": 23,
     "metadata": {},
     "output_type": "execute_result"
    }
   ],
   "source": [
    "df1[df1['House price of unit area'] >= 75]"
   ]
  },
  {
   "cell_type": "code",
   "execution_count": 24,
   "id": "2b8631b0",
   "metadata": {},
   "outputs": [],
   "source": [
    "df1.drop(312, inplace = True)"
   ]
  },
  {
   "cell_type": "code",
   "execution_count": 25,
   "id": "bd4f4b23",
   "metadata": {},
   "outputs": [
    {
     "data": {
      "text/html": [
       "<div>\n",
       "<style scoped>\n",
       "    .dataframe tbody tr th:only-of-type {\n",
       "        vertical-align: middle;\n",
       "    }\n",
       "\n",
       "    .dataframe tbody tr th {\n",
       "        vertical-align: top;\n",
       "    }\n",
       "\n",
       "    .dataframe thead th {\n",
       "        text-align: right;\n",
       "    }\n",
       "</style>\n",
       "<table border=\"1\" class=\"dataframe\">\n",
       "  <thead>\n",
       "    <tr style=\"text-align: right;\">\n",
       "      <th></th>\n",
       "      <th>House Age</th>\n",
       "      <th>Distance from nearest Metro station (km)</th>\n",
       "      <th>Number of convenience stores</th>\n",
       "      <th>latitude</th>\n",
       "      <th>longitude</th>\n",
       "      <th>Number of bedrooms</th>\n",
       "      <th>House size (sqft)</th>\n",
       "      <th>House price of unit area</th>\n",
       "    </tr>\n",
       "  </thead>\n",
       "  <tbody>\n",
       "  </tbody>\n",
       "</table>\n",
       "</div>"
      ],
      "text/plain": [
       "Empty DataFrame\n",
       "Columns: [House Age, Distance from nearest Metro station (km), Number of convenience stores, latitude, longitude, Number of bedrooms, House size (sqft), House price of unit area]\n",
       "Index: []"
      ]
     },
     "execution_count": 25,
     "metadata": {},
     "output_type": "execute_result"
    }
   ],
   "source": [
    "df1[df1['House price of unit area'] >= 75]"
   ]
  },
  {
   "cell_type": "code",
   "execution_count": 26,
   "id": "a638ec7a",
   "metadata": {},
   "outputs": [
    {
     "name": "stderr",
     "output_type": "stream",
     "text": [
      "D:\\ashwa\\ana\\lib\\site-packages\\seaborn\\_decorators.py:36: FutureWarning: Pass the following variable as a keyword arg: x. From version 0.12, the only valid positional argument will be `data`, and passing other arguments without an explicit keyword will result in an error or misinterpretation.\n",
      "  warnings.warn(\n"
     ]
    },
    {
     "data": {
      "text/plain": [
       "<AxesSubplot:xlabel='House price of unit area'>"
      ]
     },
     "execution_count": 26,
     "metadata": {},
     "output_type": "execute_result"
    },
    {
     "data": {
      "image/png": "[encoded data removed]",
      "text/plain": [
       "<Figure size 1440x720 with 1 Axes>"
      ]
     },
     "metadata": {
      "needs_background": "light"
     },
     "output_type": "display_data"
    }
   ],
   "source": [
    "#no outliers left now. we can check it through boxplot once again\n",
    "sn.boxplot(df1['House price of unit area'])"
   ]
  },
  {
   "cell_type": "code",
   "execution_count": 27,
   "id": "0b68ccad",
   "metadata": {},
   "outputs": [
    {
     "data": {
      "text/plain": [
       "Text(0.5, 1.0, 'scatter plot between area and price')"
      ]
     },
     "execution_count": 27,
     "metadata": {},
     "output_type": "execute_result"
    },
    {
     "data": {
      "image/png": "[encoded data removed]",
      "text/plain": [
       "<Figure size 1440x720 with 1 Axes>"
      ]
     },
     "metadata": {
      "needs_background": "light"
     },
     "output_type": "display_data"
    }
   ],
   "source": [
    "plt.scatter(df1['House size (sqft)'], df1['House price of unit area'], color = 'red')\n",
    "plt.xlabel(\"Area\")\n",
    "plt.ylabel(\"price of unit area\")\n",
    "plt.title(\"scatter plot between area and price\")"
   ]
  },
  {
   "cell_type": "code",
   "execution_count": 28,
   "id": "8497b9e5",
   "metadata": {},
   "outputs": [
    {
     "data": {
      "image/png": "[encoded data removed]",
      "text/plain": [
       "<Figure size 1440x720 with 2 Axes>"
      ]
     },
     "metadata": {
      "needs_background": "light"
     },
     "output_type": "display_data"
    }
   ],
   "source": [
    "# Correlation matrix to check the relation between columns\n",
    "corr_matrix = df1.corr()\n",
    "sn.heatmap(corr_matrix, annot=True)\n",
    "plt.show()"
   ]
  },
  {
   "cell_type": "code",
   "execution_count": 30,
   "id": "a95392a0",
   "metadata": {},
   "outputs": [
    {
     "data": {
      "text/html": [
       "<div>\n",
       "<style scoped>\n",
       "    .dataframe tbody tr th:only-of-type {\n",
       "        vertical-align: middle;\n",
       "    }\n",
       "\n",
       "    .dataframe tbody tr th {\n",
       "        vertical-align: top;\n",
       "    }\n",
       "\n",
       "    .dataframe thead th {\n",
       "        text-align: right;\n",
       "    }\n",
       "</style>\n",
       "<table border=\"1\" class=\"dataframe\">\n",
       "  <thead>\n",
       "    <tr style=\"text-align: right;\">\n",
       "      <th></th>\n",
       "      <th>House Age</th>\n",
       "      <th>Distance from nearest Metro station (km)</th>\n",
       "      <th>Number of convenience stores</th>\n",
       "      <th>latitude</th>\n",
       "      <th>longitude</th>\n",
       "      <th>Number of bedrooms</th>\n",
       "      <th>House size (sqft)</th>\n",
       "      <th>House price of unit area</th>\n",
       "    </tr>\n",
       "  </thead>\n",
       "  <tbody>\n",
       "    <tr>\n",
       "      <th>0</th>\n",
       "      <td>32.0</td>\n",
       "      <td>0.084879</td>\n",
       "      <td>10</td>\n",
       "      <td>24.98298</td>\n",
       "      <td>121.54024</td>\n",
       "      <td>1</td>\n",
       "      <td>575</td>\n",
       "      <td>37.9</td>\n",
       "    </tr>\n",
       "    <tr>\n",
       "      <th>1</th>\n",
       "      <td>19.5</td>\n",
       "      <td>0.306595</td>\n",
       "      <td>9</td>\n",
       "      <td>24.98034</td>\n",
       "      <td>121.53951</td>\n",
       "      <td>2</td>\n",
       "      <td>1240</td>\n",
       "      <td>42.2</td>\n",
       "    </tr>\n",
       "    <tr>\n",
       "      <th>2</th>\n",
       "      <td>13.3</td>\n",
       "      <td>0.561984</td>\n",
       "      <td>5</td>\n",
       "      <td>24.98746</td>\n",
       "      <td>121.54391</td>\n",
       "      <td>3</td>\n",
       "      <td>1060</td>\n",
       "      <td>47.3</td>\n",
       "    </tr>\n",
       "    <tr>\n",
       "      <th>3</th>\n",
       "      <td>13.3</td>\n",
       "      <td>0.561984</td>\n",
       "      <td>5</td>\n",
       "      <td>24.98746</td>\n",
       "      <td>121.54391</td>\n",
       "      <td>2</td>\n",
       "      <td>875</td>\n",
       "      <td>54.8</td>\n",
       "    </tr>\n",
       "    <tr>\n",
       "      <th>4</th>\n",
       "      <td>5.0</td>\n",
       "      <td>0.390568</td>\n",
       "      <td>5</td>\n",
       "      <td>24.97937</td>\n",
       "      <td>121.54245</td>\n",
       "      <td>1</td>\n",
       "      <td>491</td>\n",
       "      <td>43.1</td>\n",
       "    </tr>\n",
       "    <tr>\n",
       "      <th>...</th>\n",
       "      <td>...</td>\n",
       "      <td>...</td>\n",
       "      <td>...</td>\n",
       "      <td>...</td>\n",
       "      <td>...</td>\n",
       "      <td>...</td>\n",
       "      <td>...</td>\n",
       "      <td>...</td>\n",
       "    </tr>\n",
       "    <tr>\n",
       "      <th>409</th>\n",
       "      <td>13.7</td>\n",
       "      <td>4.082015</td>\n",
       "      <td>0</td>\n",
       "      <td>24.94155</td>\n",
       "      <td>121.50381</td>\n",
       "      <td>3</td>\n",
       "      <td>803</td>\n",
       "      <td>15.4</td>\n",
       "    </tr>\n",
       "    <tr>\n",
       "      <th>410</th>\n",
       "      <td>5.6</td>\n",
       "      <td>0.090456</td>\n",
       "      <td>9</td>\n",
       "      <td>24.97433</td>\n",
       "      <td>121.54310</td>\n",
       "      <td>2</td>\n",
       "      <td>1278</td>\n",
       "      <td>50.0</td>\n",
       "    </tr>\n",
       "    <tr>\n",
       "      <th>411</th>\n",
       "      <td>18.8</td>\n",
       "      <td>0.390970</td>\n",
       "      <td>7</td>\n",
       "      <td>24.97923</td>\n",
       "      <td>121.53986</td>\n",
       "      <td>1</td>\n",
       "      <td>503</td>\n",
       "      <td>40.6</td>\n",
       "    </tr>\n",
       "    <tr>\n",
       "      <th>412</th>\n",
       "      <td>8.1</td>\n",
       "      <td>0.104810</td>\n",
       "      <td>5</td>\n",
       "      <td>24.96674</td>\n",
       "      <td>121.54067</td>\n",
       "      <td>1</td>\n",
       "      <td>597</td>\n",
       "      <td>52.5</td>\n",
       "    </tr>\n",
       "    <tr>\n",
       "      <th>413</th>\n",
       "      <td>6.5</td>\n",
       "      <td>0.090456</td>\n",
       "      <td>9</td>\n",
       "      <td>24.97433</td>\n",
       "      <td>121.54310</td>\n",
       "      <td>2</td>\n",
       "      <td>1097</td>\n",
       "      <td>63.9</td>\n",
       "    </tr>\n",
       "  </tbody>\n",
       "</table>\n",
       "<p>411 rows × 8 columns</p>\n",
       "</div>"
      ],
      "text/plain": [
       "     House Age  Distance from nearest Metro station (km)  \\\n",
       "0         32.0                                  0.084879   \n",
       "1         19.5                                  0.306595   \n",
       "2         13.3                                  0.561984   \n",
       "3         13.3                                  0.561984   \n",
       "4          5.0                                  0.390568   \n",
       "..         ...                                       ...   \n",
       "409       13.7                                  4.082015   \n",
       "410        5.6                                  0.090456   \n",
       "411       18.8                                  0.390970   \n",
       "412        8.1                                  0.104810   \n",
       "413        6.5                                  0.090456   \n",
       "\n",
       "     Number of convenience stores  latitude  longitude  Number of bedrooms  \\\n",
       "0                              10  24.98298  121.54024                   1   \n",
       "1                               9  24.98034  121.53951                   2   \n",
       "2                               5  24.98746  121.54391                   3   \n",
       "3                               5  24.98746  121.54391                   2   \n",
       "4                               5  24.97937  121.54245                   1   \n",
       "..                            ...       ...        ...                 ...   \n",
       "409                             0  24.94155  121.50381                   3   \n",
       "410                             9  24.97433  121.54310                   2   \n",
       "411                             7  24.97923  121.53986                   1   \n",
       "412                             5  24.96674  121.54067                   1   \n",
       "413                             9  24.97433  121.54310                   2   \n",
       "\n",
       "     House size (sqft)  House price of unit area  \n",
       "0                  575                      37.9  \n",
       "1                 1240                      42.2  \n",
       "2                 1060                      47.3  \n",
       "3                  875                      54.8  \n",
       "4                  491                      43.1  \n",
       "..                 ...                       ...  \n",
       "409                803                      15.4  \n",
       "410               1278                      50.0  \n",
       "411                503                      40.6  \n",
       "412                597                      52.5  \n",
       "413               1097                      63.9  \n",
       "\n",
       "[411 rows x 8 columns]"
      ]
     },
     "execution_count": 30,
     "metadata": {},
     "output_type": "execute_result"
    }
   ],
   "source": [
    "df1"
   ]
  },
  {
   "cell_type": "code",
   "execution_count": 32,
   "id": "fb74279f",
   "metadata": {},
   "outputs": [
    {
     "data": {
      "text/plain": [
       "Text(0, 0.5, 'Count')"
      ]
     },
     "execution_count": 32,
     "metadata": {},
     "output_type": "execute_result"
    },
    {
     "data": {
      "image/png": "[encoded data removed]",
      "text/plain": [
       "<Figure size 1440x720 with 1 Axes>"
      ]
     },
     "metadata": {
      "needs_background": "light"
     },
     "output_type": "display_data"
    }
   ],
   "source": [
    "matplotlib.rcParams[\"figure.figsize\"] = (20,10)\n",
    "plt.hist(df1['Number of convenience stores'],rwidth=0.8)\n",
    "plt.xlabel(\"Number of convenience stores\")\n",
    "plt.ylabel(\"Count\")"
   ]
  },
  {
   "cell_type": "code",
   "execution_count": 33,
   "id": "0f86035c",
   "metadata": {},
   "outputs": [
    {
     "data": {
      "text/plain": [
       "Text(0, 0.5, 'price of unit area')"
      ]
     },
     "execution_count": 33,
     "metadata": {},
     "output_type": "execute_result"
    },
    {
     "data": {
      "image/png": "[encoded data removed]",
      "text/plain": [
       "<Figure size 1440x720 with 1 Axes>"
      ]
     },
     "metadata": {
      "needs_background": "light"
     },
     "output_type": "display_data"
    }
   ],
   "source": [
    "matplotlib.rcParams[\"figure.figsize\"] = (20,10)\n",
    "plt.bar(df1['Number of convenience stores'],df1['House price of unit area'])\n",
    "plt.xlabel(\"Number of convenience stores\")\n",
    "plt.ylabel(\"price of unit area\")"
   ]
  },
  {
   "cell_type": "code",
   "execution_count": 34,
   "id": "7b87308c",
   "metadata": {},
   "outputs": [
    {
     "data": {
      "text/plain": [
       "Text(0, 0.5, 'price of unit area')"
      ]
     },
     "execution_count": 34,
     "metadata": {},
     "output_type": "execute_result"
    },
    {
     "data": {
      "image/png": "[encoded data removed]",
      "text/plain": [
       "<Figure size 1440x720 with 1 Axes>"
      ]
     },
     "metadata": {
      "needs_background": "light"
     },
     "output_type": "display_data"
    }
   ],
   "source": [
    "matplotlib.rcParams[\"figure.figsize\"] = (20,10)\n",
    "plt.bar(df1['Number of bedrooms'],df1['House price of unit area'])\n",
    "plt.xlabel(\"Number of bedrooms\")\n",
    "plt.ylabel(\"price of unit area\")"
   ]
  },
  {
   "cell_type": "code",
   "execution_count": 35,
   "id": "63aee09f",
   "metadata": {},
   "outputs": [],
   "source": [
    "from sklearn.preprocessing import StandardScaler\n"
   ]
  },
  {
   "cell_type": "code",
   "execution_count": 36,
   "id": "2e80db2d",
   "metadata": {},
   "outputs": [],
   "source": [
    "std = StandardScaler()"
   ]
  },
  {
   "cell_type": "code",
   "execution_count": 37,
   "id": "83b3cd6b",
   "metadata": {},
   "outputs": [],
   "source": [
    "from sklearn.model_selection import train_test_split"
   ]
  },
  {
   "cell_type": "code",
   "execution_count": 38,
   "id": "0dc90072",
   "metadata": {},
   "outputs": [
    {
     "data": {
      "text/html": [
       "<div>\n",
       "<style scoped>\n",
       "    .dataframe tbody tr th:only-of-type {\n",
       "        vertical-align: middle;\n",
       "    }\n",
       "\n",
       "    .dataframe tbody tr th {\n",
       "        vertical-align: top;\n",
       "    }\n",
       "\n",
       "    .dataframe thead th {\n",
       "        text-align: right;\n",
       "    }\n",
       "</style>\n",
       "<table border=\"1\" class=\"dataframe\">\n",
       "  <thead>\n",
       "    <tr style=\"text-align: right;\">\n",
       "      <th></th>\n",
       "      <th>House Age</th>\n",
       "      <th>Distance from nearest Metro station (km)</th>\n",
       "      <th>Number of convenience stores</th>\n",
       "      <th>latitude</th>\n",
       "      <th>longitude</th>\n",
       "      <th>Number of bedrooms</th>\n",
       "      <th>House size (sqft)</th>\n",
       "    </tr>\n",
       "  </thead>\n",
       "  <tbody>\n",
       "    <tr>\n",
       "      <th>0</th>\n",
       "      <td>32.0</td>\n",
       "      <td>0.084879</td>\n",
       "      <td>10</td>\n",
       "      <td>24.98298</td>\n",
       "      <td>121.54024</td>\n",
       "      <td>1</td>\n",
       "      <td>575</td>\n",
       "    </tr>\n",
       "    <tr>\n",
       "      <th>1</th>\n",
       "      <td>19.5</td>\n",
       "      <td>0.306595</td>\n",
       "      <td>9</td>\n",
       "      <td>24.98034</td>\n",
       "      <td>121.53951</td>\n",
       "      <td>2</td>\n",
       "      <td>1240</td>\n",
       "    </tr>\n",
       "    <tr>\n",
       "      <th>2</th>\n",
       "      <td>13.3</td>\n",
       "      <td>0.561984</td>\n",
       "      <td>5</td>\n",
       "      <td>24.98746</td>\n",
       "      <td>121.54391</td>\n",
       "      <td>3</td>\n",
       "      <td>1060</td>\n",
       "    </tr>\n",
       "    <tr>\n",
       "      <th>3</th>\n",
       "      <td>13.3</td>\n",
       "      <td>0.561984</td>\n",
       "      <td>5</td>\n",
       "      <td>24.98746</td>\n",
       "      <td>121.54391</td>\n",
       "      <td>2</td>\n",
       "      <td>875</td>\n",
       "    </tr>\n",
       "    <tr>\n",
       "      <th>4</th>\n",
       "      <td>5.0</td>\n",
       "      <td>0.390568</td>\n",
       "      <td>5</td>\n",
       "      <td>24.97937</td>\n",
       "      <td>121.54245</td>\n",
       "      <td>1</td>\n",
       "      <td>491</td>\n",
       "    </tr>\n",
       "    <tr>\n",
       "      <th>...</th>\n",
       "      <td>...</td>\n",
       "      <td>...</td>\n",
       "      <td>...</td>\n",
       "      <td>...</td>\n",
       "      <td>...</td>\n",
       "      <td>...</td>\n",
       "      <td>...</td>\n",
       "    </tr>\n",
       "    <tr>\n",
       "      <th>409</th>\n",
       "      <td>13.7</td>\n",
       "      <td>4.082015</td>\n",
       "      <td>0</td>\n",
       "      <td>24.94155</td>\n",
       "      <td>121.50381</td>\n",
       "      <td>3</td>\n",
       "      <td>803</td>\n",
       "    </tr>\n",
       "    <tr>\n",
       "      <th>410</th>\n",
       "      <td>5.6</td>\n",
       "      <td>0.090456</td>\n",
       "      <td>9</td>\n",
       "      <td>24.97433</td>\n",
       "      <td>121.54310</td>\n",
       "      <td>2</td>\n",
       "      <td>1278</td>\n",
       "    </tr>\n",
       "    <tr>\n",
       "      <th>411</th>\n",
       "      <td>18.8</td>\n",
       "      <td>0.390970</td>\n",
       "      <td>7</td>\n",
       "      <td>24.97923</td>\n",
       "      <td>121.53986</td>\n",
       "      <td>1</td>\n",
       "      <td>503</td>\n",
       "    </tr>\n",
       "    <tr>\n",
       "      <th>412</th>\n",
       "      <td>8.1</td>\n",
       "      <td>0.104810</td>\n",
       "      <td>5</td>\n",
       "      <td>24.96674</td>\n",
       "      <td>121.54067</td>\n",
       "      <td>1</td>\n",
       "      <td>597</td>\n",
       "    </tr>\n",
       "    <tr>\n",
       "      <th>413</th>\n",
       "      <td>6.5</td>\n",
       "      <td>0.090456</td>\n",
       "      <td>9</td>\n",
       "      <td>24.97433</td>\n",
       "      <td>121.54310</td>\n",
       "      <td>2</td>\n",
       "      <td>1097</td>\n",
       "    </tr>\n",
       "  </tbody>\n",
       "</table>\n",
       "<p>411 rows × 7 columns</p>\n",
       "</div>"
      ],
      "text/plain": [
       "     House Age  Distance from nearest Metro station (km)  \\\n",
       "0         32.0                                  0.084879   \n",
       "1         19.5                                  0.306595   \n",
       "2         13.3                                  0.561984   \n",
       "3         13.3                                  0.561984   \n",
       "4          5.0                                  0.390568   \n",
       "..         ...                                       ...   \n",
       "409       13.7                                  4.082015   \n",
       "410        5.6                                  0.090456   \n",
       "411       18.8                                  0.390970   \n",
       "412        8.1                                  0.104810   \n",
       "413        6.5                                  0.090456   \n",
       "\n",
       "     Number of convenience stores  latitude  longitude  Number of bedrooms  \\\n",
       "0                              10  24.98298  121.54024                   1   \n",
       "1                               9  24.98034  121.53951                   2   \n",
       "2                               5  24.98746  121.54391                   3   \n",
       "3                               5  24.98746  121.54391                   2   \n",
       "4                               5  24.97937  121.54245                   1   \n",
       "..                            ...       ...        ...                 ...   \n",
       "409                             0  24.94155  121.50381                   3   \n",
       "410                             9  24.97433  121.54310                   2   \n",
       "411                             7  24.97923  121.53986                   1   \n",
       "412                             5  24.96674  121.54067                   1   \n",
       "413                             9  24.97433  121.54310                   2   \n",
       "\n",
       "     House size (sqft)  \n",
       "0                  575  \n",
       "1                 1240  \n",
       "2                 1060  \n",
       "3                  875  \n",
       "4                  491  \n",
       "..                 ...  \n",
       "409                803  \n",
       "410               1278  \n",
       "411                503  \n",
       "412                597  \n",
       "413               1097  \n",
       "\n",
       "[411 rows x 7 columns]"
      ]
     },
     "execution_count": 38,
     "metadata": {},
     "output_type": "execute_result"
    }
   ],
   "source": [
    "x = df1.drop('House price of unit area', axis = 'columns')\n",
    "x"
   ]
  },
  {
   "cell_type": "code",
   "execution_count": 39,
   "id": "5a3c4beb",
   "metadata": {},
   "outputs": [],
   "source": [
    "y = df1['House price of unit area']"
   ]
  },
  {
   "cell_type": "code",
   "execution_count": 40,
   "id": "e828ae92",
   "metadata": {},
   "outputs": [],
   "source": [
    "x_train,x_test,y_train,y_test = train_test_split(x,y, test_size = 0.2,random_state = 2)"
   ]
  },
  {
   "cell_type": "code",
   "execution_count": 41,
   "id": "f705939f",
   "metadata": {},
   "outputs": [
    {
     "data": {
      "text/plain": [
       "array([[ 0.59766491,  2.58283205, -1.33786074, ..., -2.30679947,\n",
       "         0.00369755,  1.52751911],\n",
       "       [ 0.39300856,  0.00372276, -1.33786074, ...,  1.06085348,\n",
       "         1.21649272,  0.99350452],\n",
       "       [ 0.06377878,  0.20031054, -1.00160149, ...,  0.98327797,\n",
       "         1.21649272,  0.48820039],\n",
       "       ...,\n",
       "       [ 1.3540036 , -0.55764243,  1.35221326, ...,  0.37393486,\n",
       "         0.00369755,  1.32654587],\n",
       "       [ 1.63874288, -0.43926521, -0.66534224, ...,  0.81561477,\n",
       "         0.00369755,  1.12557264],\n",
       "       [ 0.91799659, -0.48832325,  0.34343551, ...,  0.6285577 ,\n",
       "        -1.20909762, -1.00474361]])"
      ]
     },
     "execution_count": 41,
     "metadata": {},
     "output_type": "execute_result"
    }
   ],
   "source": [
    "#scaling the Data for better accauracy\n",
    "x_train = std.fit_transform(x_train)\n",
    "x_train"
   ]
  },
  {
   "cell_type": "code",
   "execution_count": 42,
   "id": "c2e47711",
   "metadata": {},
   "outputs": [
    {
     "data": {
      "text/plain": [
       "array([[-1.84386399e-01,  1.19902273e-01, -1.73513367e-01,\n",
       "         1.68978240e+00,  7.22173807e-03,  4.52781834e-02,\n",
       "         8.65104438e-01],\n",
       "       [-9.40992162e-01, -7.08732112e-01,  1.95758670e-01,\n",
       "        -4.12409045e-01,  5.25967377e-01, -1.20741822e+00,\n",
       "        -9.75201689e-01],\n",
       "       [ 1.33628345e-02, -2.15765672e-01, -5.42785403e-01,\n",
       "         5.90866124e-01,  2.88736140e-01,  4.52781834e-02,\n",
       "         1.34104568e+00],\n",
       "       [ 1.34602071e+00, -3.44542877e-01,  1.95758670e-01,\n",
       "         3.13506926e-01,  3.64650136e-01,  1.29797459e+00,\n",
       "        -2.54078598e-01],\n",
       "       [-1.06995905e+00, -7.22563609e-01,  1.67284682e+00,\n",
       "         3.13506926e-01,  7.18124679e-01,  1.29797459e+00,\n",
       "        -2.68501060e-01],\n",
       "       [-1.26770829e+00, -3.93416088e-01,  9.34302743e-01,\n",
       "         9.03612530e-01,  2.97434618e-01,  1.29797459e+00,\n",
       "         8.76642408e-01],\n",
       "       [ 1.25134140e-01,  1.29585419e+00, -5.42785403e-01,\n",
       "        -7.49065727e-01, -1.71191396e+00,  4.52781834e-02,\n",
       "         1.07567238e+00],\n",
       "       [-1.47405531e+00, -4.51135400e-01,  9.34302743e-01,\n",
       "         1.79609382e-01,  4.93545774e-01,  4.52781834e-02,\n",
       "         9.60292686e-01],\n",
       "       [-1.06995905e+00, -7.22563609e-01,  1.67284682e+00,\n",
       "         3.13506926e-01,  7.18124679e-01,  1.29797459e+00,\n",
       "        -2.33192093e-02],\n",
       "       [ 1.35461851e+00, -6.40490907e-01,  1.30357478e+00,\n",
       "         2.31255577e-01,  6.87284618e-01,  1.29797459e+00,\n",
       "         1.19393657e+00],\n",
       "       [-1.25051270e+00,  1.38329958e+00, -5.42785403e-01,\n",
       "        -7.56717015e-01, -1.77992025e+00,  4.52781834e-02,\n",
       "         1.59199651e+00],\n",
       "       [-9.66785540e-01, -7.08732112e-01,  1.95758670e-01,\n",
       "        -4.12409045e-01,  5.25967377e-01,  4.52781834e-02,\n",
       "        -1.32929919e-01],\n",
       "       [ 1.33628345e-02, -3.65410997e-01,  1.95758670e-01,\n",
       "        -1.60696642e+00,  4.65078026e-01,  4.52781834e-02,\n",
       "         1.54007565e+00],\n",
       "       [-9.06600991e-01, -7.08732112e-01,  1.95758670e-01,\n",
       "        -4.12409045e-01,  5.25967377e-01,  4.52781834e-02,\n",
       "         1.41315799e+00],\n",
       "       [ 1.62115008e+00, -3.38939951e-01, -1.28132948e+00,\n",
       "         2.33168399e-01,  3.88525697e-02,  1.29797459e+00,\n",
       "         1.23789901e-01],\n",
       "       [-4.93906938e-01, -3.35414538e-01,  1.95758670e-01,\n",
       "        -5.64478398e-01,  2.65013016e-01, -1.20741822e+00,\n",
       "        -1.48287234e+00],\n",
       "       [-5.62689280e-01, -2.68200624e-01,  1.95758670e-01,\n",
       "         1.56927461e+00,  7.82177113e-01, -1.20741822e+00,\n",
       "        -1.02135357e+00],\n",
       "       [-2.44570948e-01,  1.21725076e+00, -5.42785403e-01,\n",
       "        -1.01686081e+00, -1.53399053e+00,  4.52781834e-02,\n",
       "         1.35546814e+00],\n",
       "       [-6.40069415e-01, -6.15182537e-01,  1.30357478e+00,\n",
       "         1.32347697e+00,  5.68669000e-01,  1.29797459e+00,\n",
       "         1.57757405e+00],\n",
       "       [ 1.50937877e+00, -3.38702328e-01,  1.30357478e+00,\n",
       "        -8.62728840e-02,  8.63626505e-01,  4.52781834e-02,\n",
       "         6.66074465e-01],\n",
       "       [ 9.50522245e-01, -1.17581681e-01, -5.42785403e-01,\n",
       "         3.86194164e-01,  1.91471332e-01,  1.29797459e+00,\n",
       "         1.54296014e+00],\n",
       "       [-2.44570948e-01,  3.11667317e+00, -1.65060151e+00,\n",
       "        -2.74509554e+00, -2.40779226e+00,  4.52781834e-02,\n",
       "         7.32417790e-01],\n",
       "       [ 4.76504177e-03, -3.65410997e-01,  1.95758670e-01,\n",
       "        -1.60696642e+00,  4.65078026e-01,  4.52781834e-02,\n",
       "         1.09586383e+00],\n",
       "       [ 1.91347503e+00, -4.22476028e-01, -1.73513367e-01,\n",
       "         1.16758197e+00,  8.36740298e-01,  1.29797459e+00,\n",
       "        -1.32929919e-01],\n",
       "       [ 1.05369576e+00, -2.30739956e-01,  1.95758670e-01,\n",
       "        -2.23996072e-01,  9.87777519e-01,  4.52781834e-02,\n",
       "         1.14778469e+00],\n",
       "       [ 1.28583616e+00, -6.57858957e-01,  9.34302743e-01,\n",
       "        -4.56403952e-01,  6.27976809e-01,  1.29797459e+00,\n",
       "         1.24874192e+00],\n",
       "       [ 3.40078959e-01,  2.99449785e+00, -1.65060151e+00,\n",
       "        -2.22098230e+00, -2.49794013e+00, -1.20741822e+00,\n",
       "        -1.33864773e+00],\n",
       "       [-1.32799642e-01, -4.28456105e-01,  1.95758670e-01,\n",
       "        -1.36882007e+00, -1.47674063e-03,  4.52781834e-02,\n",
       "        -1.70428320e-01],\n",
       "       [ 1.32882513e+00, -4.96613958e-01,  5.65030706e-01,\n",
       "         6.77899528e-01,  6.07416768e-01,  4.52781834e-02,\n",
       "        -1.58890350e-01],\n",
       "       [-2.10179777e-01, -5.30934459e-01,  1.95758670e-01,\n",
       "         1.04994342e+00,  7.48173969e-01, -1.20741822e+00,\n",
       "        -1.11654181e+00],\n",
       "       [ 9.59120038e-01, -3.54741193e-01, -5.42785403e-01,\n",
       "        -9.58369942e-02,  2.81619203e-01, -1.20741822e+00,\n",
       "        -1.24634397e+00],\n",
       "       [-1.36228401e+00, -3.37678218e-01,  1.30357478e+00,\n",
       "        -8.43600619e-02,  8.63626505e-01, -1.20741822e+00,\n",
       "        -1.20307659e+00],\n",
       "       [-5.45493695e-01, -6.45791168e-01, -1.28132948e+00,\n",
       "         2.54209442e-01, -3.30437390e-01, -1.20741822e+00,\n",
       "        -1.28672686e+00],\n",
       "       [-4.59515767e-01, -5.68219655e-01,  9.34302743e-01,\n",
       "        -4.77444995e-01,  7.07844659e-01, -1.20741822e+00,\n",
       "        -1.27807339e+00],\n",
       "       [-4.93906938e-01, -2.68200624e-01,  1.95758670e-01,\n",
       "         1.56927461e+00,  7.82177113e-01,  1.29797459e+00,\n",
       "         3.60318275e-01],\n",
       "       [ 8.81739903e-01,  6.23977145e-01, -9.12057439e-01,\n",
       "         4.17755728e-01, -1.32522704e+00,  1.29797459e+00,\n",
       "         2.18978149e-01],\n",
       "       [ 1.93916482e-01, -2.91507509e-01, -1.73513367e-01,\n",
       "         3.05855638e-01,  3.25902367e-01,  4.52781834e-02,\n",
       "        -1.70428320e-01],\n",
       "       [-1.29350167e+00,  1.25947651e+00, -5.42785403e-01,\n",
       "        -7.71063180e-01, -1.67474773e+00, -1.20741822e+00,\n",
       "        -1.06750544e+00],\n",
       "       [-2.96157705e-01, -8.43634390e-02, -9.12057439e-01,\n",
       "         6.59727718e-01,  3.88525697e-02, -1.20741822e+00,\n",
       "        -1.11654181e+00],\n",
       "       [-1.63741338e+00, -5.45687501e-01, -1.28132948e+00,\n",
       "         3.58458244e-01, -2.71129580e-01,  4.52781834e-02,\n",
       "         6.83381419e-01],\n",
       "       [ 1.76731256e+00, -3.46528270e-01, -1.73513367e-01,\n",
       "         2.36994044e-01,  3.82047093e-01, -1.20741822e+00,\n",
       "        -1.41941351e+00],\n",
       "       [-1.14733919e+00, -7.22563609e-01,  1.67284682e+00,\n",
       "         3.13506926e-01,  7.18124679e-01, -1.20741822e+00,\n",
       "        -1.27807339e+00],\n",
       "       [-9.06600991e-01, -7.08732112e-01,  1.95758670e-01,\n",
       "        -4.12409045e-01,  5.25967377e-01, -1.20741822e+00,\n",
       "        -1.06750544e+00],\n",
       "       [ 1.07938555e-01, -5.32594060e-01,  5.65030706e-01,\n",
       "         8.95961242e-01,  6.53281474e-01,  1.29797459e+00,\n",
       "         1.09874832e+00],\n",
       "       [-2.10283365e-02, -4.32989921e-01,  9.34302743e-01,\n",
       "         7.82148330e-01,  4.61914943e-01, -1.20741822e+00,\n",
       "        -1.24634397e+00],\n",
       "       [ 1.55236774e+00,  7.54670968e-02, -1.28132948e+00,\n",
       "         8.87503342e-02,  1.31357508e+00,  4.52781834e-02,\n",
       "        -8.10090566e-02],\n",
       "       [-5.19700317e-01, -3.35414538e-01,  1.95758670e-01,\n",
       "        -5.64478398e-01,  2.65013016e-01,  1.29797459e+00,\n",
       "        -1.30045427e-01],\n",
       "       [ 1.07089134e+00, -5.60939686e-01,  1.67284682e+00,\n",
       "        -2.27821716e-01,  7.34730866e-01, -1.20741822e+00,\n",
       "        -1.13961775e+00],\n",
       "       [ 1.33628345e-02, -2.72543070e-01, -1.73513367e-01,\n",
       "         3.00117171e-01,  3.12459263e-01,  1.29797459e+00,\n",
       "         5.62232740e-01],\n",
       "       [ 7.09784048e-01, -4.84415120e-01,  5.65030706e-01,\n",
       "        -6.44816925e-01,  5.22804294e-01,  4.52781834e-02,\n",
       "         1.15932266e+00],\n",
       "       [-1.19892594e+00,  6.93316560e-01, -5.42785403e-01,\n",
       "         1.03096500e-01, -1.40351335e+00,  4.52781834e-02,\n",
       "         6.11269110e-01],\n",
       "       [-1.63741338e+00, -6.31047472e-01, -1.65060151e+00,\n",
       "         4.58616373e-03, -1.83354023e-01,  4.52781834e-02,\n",
       "         1.21412801e+00],\n",
       "       [ 1.08808693e+00,  3.08653798e-01, -1.65060151e+00,\n",
       "        -2.04404626e+00, -3.10668120e-01,  1.29797459e+00,\n",
       "         2.91090458e-01],\n",
       "       [ 5.63621571e-01,  3.54542913e+00, -1.65060151e+00,\n",
       "        -2.17985662e+00, -3.01668577e+00, -1.20741822e+00,\n",
       "        -1.46844988e+00],\n",
       "       [-5.45493695e-01, -6.29069499e-01, -1.28132948e+00,\n",
       "         2.70468430e-01, -3.32809702e-01, -1.20741822e+00,\n",
       "        -1.14827123e+00],\n",
       "       [-3.99331218e-01, -6.45934358e-01, -1.28132948e+00,\n",
       "         2.52296620e-01, -3.34391244e-01,  1.29797459e+00,\n",
       "         1.06701890e+00],\n",
       "       [ 1.59525311e-01,  1.29585419e+00, -5.42785403e-01,\n",
       "        -7.49065727e-01, -1.71191396e+00, -1.20741822e+00,\n",
       "        -1.43960496e+00],\n",
       "       [-1.46545752e+00,  1.19203827e+00, -5.42785403e-01,\n",
       "        -7.15591341e-01, -1.63916305e+00,  1.29797459e+00,\n",
       "         7.32417790e-01],\n",
       "       [-2.96157705e-01,  8.82744144e-01, -9.12057439e-01,\n",
       "         1.16184351e+00, -1.25722076e+00,  4.52781834e-02,\n",
       "        -3.19726864e-02],\n",
       "       [-8.03427478e-01, -4.03591181e-01,  1.95758670e-01,\n",
       "         1.09106909e+00,  8.50183401e-01,  4.52781834e-02,\n",
       "         4.43968553e-01],\n",
       "       [-1.49125090e+00, -4.91764372e-01,  1.95758670e-01,\n",
       "         1.09872038e+00,  7.85340196e-01,  1.29797459e+00,\n",
       "         6.86265912e-01],\n",
       "       [ 1.35461851e+00, -6.26605680e-01,  1.30357478e+00,\n",
       "         5.75563548e-01,  7.19706221e-01, -1.20741822e+00,\n",
       "        -1.27807339e+00],\n",
       "       [-3.39146669e-01, -4.40399109e-01,  9.34302743e-01,\n",
       "        -3.54067972e-01,  8.39903381e-01,  4.52781834e-02,\n",
       "         6.31460557e-01],\n",
       "       [ 1.61255229e+00, -2.40309622e-01, -1.28132948e+00,\n",
       "         4.57118379e-02,  1.24255815e-01,  1.29797459e+00,\n",
       "         5.91077664e-01],\n",
       "       [-3.04755498e-01, -2.34983705e-02, -1.73513367e-01,\n",
       "         7.46761122e-01,  4.91325900e-02, -1.20741822e+00,\n",
       "        -1.16269369e+00],\n",
       "       [-6.05678244e-01,  5.00897973e-01, -1.28132948e+00,\n",
       "        -1.81833326e+00,  1.13881474e+00, -1.20741822e+00,\n",
       "        -1.22326803e+00],\n",
       "       [-1.42246856e+00, -6.59170411e-01, -1.73513367e-01,\n",
       "        -3.91368002e-01,  4.66659568e-01, -1.20741822e+00,\n",
       "        -1.13096428e+00],\n",
       "       [-2.10179777e-01, -4.97819128e-01,  5.65030706e-01,\n",
       "         7.03722625e-01,  6.94401555e-01, -1.20741822e+00,\n",
       "        -1.43095148e+00],\n",
       "       [-2.53168741e-01, -2.34983705e-02, -1.73513367e-01,\n",
       "         7.46761122e-01,  4.91325900e-02, -1.20741822e+00,\n",
       "        -1.32134077e+00],\n",
       "       [ 5.89414949e-01,  3.54542913e+00, -1.65060151e+00,\n",
       "        -2.17985662e+00, -3.01668577e+00,  4.52781834e-02,\n",
       "         2.56476550e-01],\n",
       "       [ 9.93511209e-01, -6.71124689e-01,  1.30357478e+00,\n",
       "         1.00403569e+00,  5.85275186e-01,  1.29797459e+00,\n",
       "         8.27606038e-01],\n",
       "       [ 9.76315624e-01, -3.62403228e-01,  5.65030706e-01,\n",
       "         8.21361182e-01,  3.18785430e-01,  1.29797459e+00,\n",
       "         1.06124992e+00],\n",
       "       [ 1.33628345e-02, -4.39982450e-01,  1.30357478e+00,\n",
       "         9.06631563e-02,  8.50183401e-01, -1.20741822e+00,\n",
       "        -1.46268090e+00],\n",
       "       [ 1.39760747e+00, -2.15598874e-01,  1.30357478e+00,\n",
       "         8.03189372e-01,  1.89889791e-01,  1.29797459e+00,\n",
       "        -3.60804816e-01],\n",
       "       [ 1.19126044e+00, -7.25602637e-01,  2.04211885e+00,\n",
       "         1.14271529e+00,  4.90382691e-01,  1.29797459e+00,\n",
       "         3.92047691e-01],\n",
       "       [-1.15604057e-01, -4.71647568e-01, -1.28132948e+00,\n",
       "         4.19668550e-01, -2.23683333e-01, -1.20741822e+00,\n",
       "        -1.05885197e+00],\n",
       "       [-1.54283766e+00, -6.23189442e-01,  5.65030706e-01,\n",
       "        -5.10919381e-01,  5.43364334e-01,  4.52781834e-02,\n",
       "         2.47823073e-01],\n",
       "       [ 1.44059643e+00, -6.45210890e-01,  9.34302743e-01,\n",
       "        -3.69370548e-01,  6.85703077e-01, -1.20741822e+00,\n",
       "        -1.13961775e+00],\n",
       "       [-1.32789284e+00, -4.49496998e-01,  2.04211885e+00,\n",
       "         1.16375633e+00,  2.87154598e-01,  1.29797459e+00,\n",
       "         5.24734340e-01],\n",
       "       [ 1.24284720e+00,  1.09691302e+00, -9.12057439e-01,\n",
       "         1.50041301e+00, -1.23191609e+00,  4.52781834e-02,\n",
       "        -1.09853980e-01],\n",
       "       [-1.24201850e-01,  9.30205108e-01, -9.12057439e-01,\n",
       "         1.49850019e+00, -1.03659571e+00,  4.52781834e-02,\n",
       "         1.27470235e+00],\n",
       "       [ 1.87908386e+00, -6.48229066e-01,  1.95758670e-01,\n",
       "        -4.54491130e-01,  4.93545774e-01,  4.52781834e-02,\n",
       "         1.41096855e-01],\n",
       "       [-1.92984192e-01,  3.10882082e+00, -1.65060151e+00,\n",
       "        -2.68579806e+00, -2.41965382e+00,  4.52781834e-02,\n",
       "         1.14778469e+00]])"
      ]
     },
     "execution_count": 42,
     "metadata": {},
     "output_type": "execute_result"
    }
   ],
   "source": [
    "x_test = std.fit_transform(x_test)\n",
    "x_test"
   ]
  },
  {
   "cell_type": "code",
   "execution_count": 43,
   "id": "db91fa24",
   "metadata": {},
   "outputs": [],
   "source": [
    "from sklearn.linear_model import LinearRegression"
   ]
  },
  {
   "cell_type": "code",
   "execution_count": 44,
   "id": "598be18b",
   "metadata": {},
   "outputs": [],
   "source": [
    "model1 = LinearRegression()"
   ]
  },
  {
   "cell_type": "code",
   "execution_count": 45,
   "id": "cbdde119",
   "metadata": {},
   "outputs": [
    {
     "data": {
      "text/plain": [
       "LinearRegression()"
      ]
     },
     "execution_count": 45,
     "metadata": {},
     "output_type": "execute_result"
    }
   ],
   "source": [
    "model1.fit(x_train,y_train)"
   ]
  },
  {
   "cell_type": "code",
   "execution_count": 46,
   "id": "f7655b60",
   "metadata": {},
   "outputs": [
    {
     "data": {
      "text/plain": [
       "0.5976330275302708"
      ]
     },
     "execution_count": 46,
     "metadata": {},
     "output_type": "execute_result"
    }
   ],
   "source": [
    "model1.score(x_test, y_test)"
   ]
  },
  {
   "cell_type": "code",
   "execution_count": 47,
   "id": "68f0a4f3",
   "metadata": {},
   "outputs": [],
   "source": [
    "#lasso model\n",
    "from sklearn import linear_model"
   ]
  },
  {
   "cell_type": "code",
   "execution_count": 48,
   "id": "e251c23d",
   "metadata": {},
   "outputs": [],
   "source": [
    "lasso = linear_model.Lasso(alpha = 1, selection = 'cyclic')"
   ]
  },
  {
   "cell_type": "code",
   "execution_count": 49,
   "id": "67c474a8",
   "metadata": {},
   "outputs": [
    {
     "data": {
      "text/plain": [
       "0.6139246873580149"
      ]
     },
     "execution_count": 49,
     "metadata": {},
     "output_type": "execute_result"
    }
   ],
   "source": [
    "lasso.fit(x_train,y_train)\n",
    "lasso.score(x_test,y_test)"
   ]
  },
  {
   "cell_type": "code",
   "execution_count": null,
   "id": "3735743a",
   "metadata": {},
   "outputs": [],
   "source": [
    "from sklearn.model_selection import cross_val_score"
   ]
  },
  {
   "cell_type": "code",
   "execution_count": 52,
   "id": "498baf09",
   "metadata": {},
   "outputs": [],
   "source": [
    "clf = cross_val_score(linear_model.Lasso(alpha = 1, selection = 'cyclic'),x_train, y_train, cv = 5)"
   ]
  },
  {
   "cell_type": "code",
   "execution_count": 189,
   "id": "a3d2ffca",
   "metadata": {},
   "outputs": [
    {
     "data": {
      "text/plain": [
       "0.48907861398359476"
      ]
     },
     "execution_count": 189,
     "metadata": {},
     "output_type": "execute_result"
    }
   ],
   "source": [
    "np.average(clf)"
   ]
  },
  {
   "cell_type": "code",
   "execution_count": 65,
   "id": "3396dfad",
   "metadata": {},
   "outputs": [],
   "source": [
    "from sklearn.ensemble import RandomForestRegressor"
   ]
  },
  {
   "cell_type": "code",
   "execution_count": 67,
   "id": "04f29171",
   "metadata": {},
   "outputs": [],
   "source": [
    "clf2 = cross_val_score(RandomForestRegressor(n_estimators = 10),x_train,y_train,cv = 6)"
   ]
  },
  {
   "cell_type": "code",
   "execution_count": 68,
   "id": "76abc4e2",
   "metadata": {},
   "outputs": [
    {
     "data": {
      "text/plain": [
       "0.7461658500410574"
      ]
     },
     "execution_count": 68,
     "metadata": {},
     "output_type": "execute_result"
    }
   ],
   "source": [
    "np.average(clf2)"
   ]
  },
  {
   "cell_type": "code",
   "execution_count": null,
   "id": "abf1f0c5",
   "metadata": {},
   "outputs": [],
   "source": [
    "'''So random forest regressor is giviing the best accuracy.\n",
    "linear regression is also a good algorithm but in this case its accaracy is less.\n",
    "'''"
   ]
  }
 ],
 "metadata": {
  "kernelspec": {
   "display_name": "Python 3 (ipykernel)",
   "language": "python",
   "name": "python3"
  },
  "language_info": {
   "codemirror_mode": {
    "name": "ipython",
    "version": 3
   },
   "file_extension": ".py",
   "mimetype": "text/x-python",
   "name": "python",
   "nbconvert_exporter": "python",
   "pygments_lexer": "ipython3",
   "version": "3.9.7"
  }
 },
 "nbformat": 4,
 "nbformat_minor": 5
}
